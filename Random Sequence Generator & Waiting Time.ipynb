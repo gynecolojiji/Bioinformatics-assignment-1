{
 "cells": [
  {
   "cell_type": "markdown",
   "id": "8112f728",
   "metadata": {},
   "source": [
    "Naive Method of sequence generation"
   ]
  },
  {
   "cell_type": "code",
   "execution_count": 1,
   "id": "f87baec6",
   "metadata": {},
   "outputs": [],
   "source": [
    "import random\n",
    "\n",
    "# Generate sequences of length 100\n",
    "a = ['a','t','c','g']\n",
    "sequences = []\n",
    "'''\n",
    "Generate 100 sequences each of length 100\n",
    "'''\n",
    "for i in range(100):\n",
    "    seq = \"\" #Initialize an empty sequence string\n",
    "    for j in range(100):\n",
    "        seq = seq + a[random.randint(0,len(a)-1)] #Adds the randomly selected characters to the sequence string\n",
    "    # Only unique sequences are stored\n",
    "    if seq not in sequences:\n",
    "        sequences.append(seq)"
   ]
  },
  {
   "cell_type": "markdown",
   "id": "98f7cf7c",
   "metadata": {},
   "source": [
    "Sample Sequence Generation Problem\n",
    "\n",
    "t[1]= 0.2\n",
    "\n",
    "t[2]= 0.5\n",
    "\n",
    "t[3]= 0.8\n",
    "\n",
    "for i in 1..1000 do\n",
    "\n",
    "  r= rand()\n",
    "\n",
    "  if (r < t[1]) print A\n",
    "\n",
    "  else if (r < t[2]) print C\n",
    "\n",
    "  else if (r < t[3]) print G\n",
    "\n",
    "  else print T\n",
    "\n",
    "done\n",
    "\n",
    "What is the expected output of this code?"
   ]
  },
  {
   "cell_type": "code",
   "execution_count": 2,
   "id": "b7972acc",
   "metadata": {},
   "outputs": [],
   "source": [
    "# Generate one sequence of length 1000 that satisfies the above condition\n",
    "seq = \"\"\n",
    "while len(seq)<1001:\n",
    "    r = random.random() # Selects r such that 0<=r<=1\n",
    "    if r<0.2:\n",
    "        seq = seq + 'A'\n",
    "        \n",
    "    elif r<0.5:\n",
    "        seq = seq + 'C'\n",
    "        \n",
    "    elif r<0.8:\n",
    "        seq = seq + 'G'\n",
    "        \n",
    "    else:\n",
    "        seq = seq + 'T' "
   ]
  },
  {
   "cell_type": "markdown",
   "id": "434a3718",
   "metadata": {},
   "source": [
    "How would you change the code logic to generate 555 sequences of length 221 each, such that the average composition of the sequences is about 25% A, 30% C, 30% G, and 15% T?\n",
    "\n",
    "0 <= r < 0.25 -> A\n",
    "\n",
    "0.25 <= r < 0.55 -> C\n",
    "\n",
    "0.55 <= r < 0.85 -> G\n",
    "\n",
    "0.85 <= r < 1 ->T\n"
   ]
  },
  {
   "cell_type": "code",
   "execution_count": 3,
   "id": "07e57878",
   "metadata": {},
   "outputs": [],
   "source": [
    "sequences = []\n",
    "while len(sequences)<555:\n",
    "    seq = \"\"\n",
    "    while len(seq)<221:\n",
    "        r = random.random()\n",
    "        if r>=0 and r<0.25:\n",
    "            seq = seq + 'A'\n",
    "\n",
    "        if r>=0.25 and r<0.55:\n",
    "            seq = seq + 'C'\n",
    "\n",
    "        if r>=0.55 and r<0.85:\n",
    "            seq = seq + 'G'\n",
    "\n",
    "        if r>=0.85 and r<1:\n",
    "            seq = seq + 'T'\n",
    "    sequences.append(seq)"
   ]
  },
  {
   "cell_type": "markdown",
   "id": "e55c0172",
   "metadata": {},
   "source": [
    "Waiting Time\n",
    "\n",
    "The time it would take until a particular pattern is first encountered in a sequence.\n",
    "\n",
    "By time, we usually mean how long a sequence has to be generated till we see our pattern of interest."
   ]
  },
  {
   "cell_type": "code",
   "execution_count": 4,
   "id": "36a07a5c",
   "metadata": {},
   "outputs": [
    {
     "name": "stdout",
     "output_type": "stream",
     "text": [
      "Requirement already satisfied: numpy in c:\\users\\vogir\\appdata\\local\\programs\\python\\python39\\lib\\site-packages (1.21.2)\n"
     ]
    }
   ],
   "source": [
    "pip install numpy"
   ]
  },
  {
   "cell_type": "code",
   "execution_count": 5,
   "id": "12dff123",
   "metadata": {},
   "outputs": [
    {
     "name": "stdout",
     "output_type": "stream",
     "text": [
      "7.46\n"
     ]
    }
   ],
   "source": [
    "import numpy as np\n",
    "from random import random\n",
    "def waiting_time(probability, pattern) :\n",
    "    pattern_size = len(pattern)\n",
    "    sequence =''\n",
    "    while len(sequence) < pattern_size or sequence[-pattern_size:] != pattern :\n",
    "        ran = random()\n",
    "        p = 0\n",
    "        for letter in probability :\n",
    "            p += probability[letter]\n",
    "            if ran<p:\n",
    "                sequence += letter\n",
    "                break\n",
    "    return len(sequence)\n",
    "# Composition\n",
    "probability = dict()\n",
    "probability['R']=0.5\n",
    "probability['Y']=0.5\n",
    "pattern = \"RYY\"\n",
    "n = 50\n",
    "waiting_times = [waiting_time(probability, pattern) for i in range(n)]\n",
    "print(np.mean(waiting_times))"
   ]
  }
 ],
 "metadata": {
  "kernelspec": {
   "display_name": "Python 3",
   "language": "python",
   "name": "python3"
  },
  "language_info": {
   "codemirror_mode": {
    "name": "ipython",
    "version": 3
   },
   "file_extension": ".py",
   "mimetype": "text/x-python",
   "name": "python",
   "nbconvert_exporter": "python",
   "pygments_lexer": "ipython3",
   "version": "3.8.3"
  }
 },
 "nbformat": 4,
 "nbformat_minor": 5
}
